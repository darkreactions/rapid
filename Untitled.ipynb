{
 "cells": [
  {
   "cell_type": "code",
   "execution_count": null,
   "metadata": {},
   "outputs": [],
   "source": [
    "import os\n",
    "folder_path = '/Users/vshekar/Google Drive File Stream/My Drive/DARPA SD2 Perovskites/Science/4-Data-Iodides'\n",
    "folders = [folder for folder in os.listdir(folder_path) if 'LBL' in folder]"
   ]
  },
  {
   "cell_type": "code",
   "execution_count": null,
   "metadata": {},
   "outputs": [],
   "source": [
    "image_names = {}\n",
    "for folder in folders:\n",
    "    image_path = os.path.join(folder_path, folder, 'images')\n",
    "    if os.path.exists(image_path):\n",
    "        image_names[folder] = os.listdir(folder_path + '/' + folder +'/images')\n",
    "    else:\n",
    "        image_names[folder] = []"
   ]
  },
  {
   "cell_type": "code",
   "execution_count": null,
   "metadata": {},
   "outputs": [],
   "source": [
    "non_side = {}\n",
    "for folder, filenames in image_names.items():\n",
    "    print('-----------------')\n",
    "    print(folder)\n",
    "    for file in filenames:\n",
    "        if 'side_' not in file and 'Icon' not in file:\n",
    "            print(file)"
   ]
  },
  {
   "cell_type": "code",
   "execution_count": null,
   "metadata": {},
   "outputs": [],
   "source": [
    "import glob\n",
    "patterns = ['Side_*.jpg', 'Top_*.jpg', 'top_*.jpg', '*_Top.jpg', '*_Side.jpg', 'side[0-9][0-9][0-9]*']\n",
    "image_file_analysis = {}\n",
    "for folder in folders:\n",
    "    image_path = os.path.join(folder_path, folder, 'images')\n",
    "    \n",
    "    if os.path.exists(image_path):\n",
    "        analysis = {}\n",
    "        for pattern in patterns:\n",
    "            filenames = glob.glob(os.path.join(image_path, pattern))\n",
    "            if filenames:\n",
    "                analysis[pattern] = (len(filenames), filenames[0].split('/')[-1])\n",
    "        image_file_analysis[folder] = analysis"
   ]
  },
  {
   "cell_type": "code",
   "execution_count": null,
   "metadata": {},
   "outputs": [],
   "source": [
    "for folder in image_file_analysis:\n",
    "    \n",
    "    for pattern in image_file_analysis[folder]:\n",
    "        if pattern != 'side_*.jpg' and image_file_analysis[folder][pattern][0] != 96:\n",
    "            print('-------------------------------------------------')\n",
    "            print(folder)\n",
    "            print(pattern, image_file_analysis[folder][pattern])"
   ]
  }
 ],
 "metadata": {
  "hide_input": false,
  "kernelspec": {
   "display_name": "Python 3",
   "language": "python",
   "name": "python3"
  },
  "language_info": {
   "codemirror_mode": {
    "name": "ipython",
    "version": 3
   },
   "file_extension": ".py",
   "mimetype": "text/x-python",
   "name": "python",
   "nbconvert_exporter": "python",
   "pygments_lexer": "ipython3",
   "version": "3.7.3"
  }
 },
 "nbformat": 4,
 "nbformat_minor": 2
}
