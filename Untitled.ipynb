{
 "cells": [
  {
   "cell_type": "code",
   "execution_count": null,
   "metadata": {},
   "outputs": [],
   "source": [
    "import os\n",
    "folder_path = '/Users/vshekar/Google Drive File Stream/My Drive/DARPA SD2 Perovskites/Science/4-Data-Iodides'\n",
    "folders = [folder for folder in os.listdir(folder_path) if 'LBL' in folder]"
   ]
  },
  {
   "cell_type": "code",
   "execution_count": null,
   "metadata": {},
   "outputs": [],
   "source": [
    "image_names = {}\n",
    "for folder in folders:\n",
    "    image_path = os.path.join(folder_path, folder, 'images')\n",
    "    if os.path.exists(image_path):\n",
    "        image_names[folder] = os.listdir(folder_path + '/' + folder +'/images')\n",
    "    else:\n",
    "        image_names[folder] = []"
   ]
  },
  {
   "cell_type": "code",
   "execution_count": null,
   "metadata": {},
   "outputs": [],
   "source": [
    "non_side = {}\n",
    "for folder, filenames in image_names.items():\n",
    "    print('-----------------')\n",
    "    print(folder)\n",
    "    for file in filenames:\n",
    "        if 'side_' not in file and 'Icon' not in file:\n",
    "            print(file)"
   ]
  },
  {
   "cell_type": "code",
   "execution_count": null,
   "metadata": {},
   "outputs": [],
   "source": [
    "import glob\n",
    "patterns = ['Side_*.jpg', 'Top_*.jpg', 'top_*.jpg', '*_Top.jpg', '*_Side.jpg', 'side[0-9][0-9][0-9]*']\n",
    "image_file_analysis = {}\n",
    "for folder in folders:\n",
    "    image_path = os.path.join(folder_path, folder, 'images')\n",
    "    \n",
    "    if os.path.exists(image_path):\n",
    "        analysis = {}\n",
    "        for pattern in patterns:\n",
    "            filenames = glob.glob(os.path.join(image_path, pattern))\n",
    "            if filenames:\n",
    "                analysis[pattern] = (len(filenames), filenames[0].split('/')[-1])\n",
    "        image_file_analysis[folder] = analysis"
   ]
  },
  {
   "cell_type": "code",
   "execution_count": null,
   "metadata": {},
   "outputs": [],
   "source": [
    "for folder in image_file_analysis:\n",
    "    \n",
    "    for pattern in image_file_analysis[folder]:\n",
    "        if pattern != 'side_*.jpg' and image_file_analysis[folder][pattern][0] != 96:\n",
    "            print('-------------------------------------------------')\n",
    "            print(folder)\n",
    "            print(pattern, image_file_analysis[folder][pattern])"
   ]
  },
  {
   "cell_type": "code",
   "execution_count": 1,
   "metadata": {},
   "outputs": [],
   "source": [
    "import json\n",
    "with open('./data/s_spaces_old.json', 'r') as f:\n",
    "    old_ss = json.load(f)\n",
    "\n",
    "with open('./data/s_spaces.json', 'r') as f:\n",
    "    ss = json.load(f)"
   ]
  },
  {
   "cell_type": "code",
   "execution_count": 3,
   "metadata": {},
   "outputs": [
    {
     "data": {
      "text/plain": [
       "{'CyclohexylammoniumIodide',\n",
       " 'Diethylammoniumiodide',\n",
       " 'MorpholiniumIodide',\n",
       " 'PhenylammoniumIodide',\n",
       " 'PyridiniumIodide',\n",
       " 'nOctylammoniumIodide',\n",
       " 'tButylammoniumIodide'}"
      ]
     },
     "execution_count": 3,
     "metadata": {},
     "output_type": "execute_result"
    }
   ],
   "source": [
    "set(old_ss.keys()) - set(ss.keys())"
   ]
  },
  {
   "cell_type": "code",
   "execution_count": 4,
   "metadata": {},
   "outputs": [
    {
     "data": {
      "text/plain": [
       "{'BAMDIFIROXTEEM-UHFFFAOYSA-N',\n",
       " 'BJDYCCHRZIFCGN-UHFFFAOYSA-N',\n",
       " 'HBPSMMXRESDUSG-UHFFFAOYSA-N',\n",
       " 'HBZSVMFYMAOGRS-UHFFFAOYSA-N',\n",
       " 'JERSPYRKVMAEJY-UHFFFAOYSA-N',\n",
       " 'KFQARYBEAKAXIC-UHFFFAOYSA-N',\n",
       " 'LYHPZBKXSHVBDW-UHFFFAOYSA-N',\n",
       " 'NLJDBTZLVTWXRG-UHFFFAOYSA-N',\n",
       " 'NXRUEVJQMBGVAT-UHFFFAOYSA-N',\n",
       " 'PBGZCCFVBVEIAS-UHFFFAOYSA-N',\n",
       " 'QNNYEDWTOZODAS-UHFFFAOYSA-N',\n",
       " 'QZCGFUVVXNFSLE-UHFFFAOYSA-N',\n",
       " 'RYYSZNVPBLKLRS-UHFFFAOYSA-N',\n",
       " 'UVLZLKCGKYLKOR-UHFFFAOYSA-N',\n",
       " 'VAWHFUNJDMQUSB-UHFFFAOYSA-N',\n",
       " 'VNAAUNTYIONOHR-UHFFFAOYSA-N',\n",
       " 'WGYRINYTHSORGH-UHFFFAOYSA-N',\n",
       " 'XZUCBFLUEBDNSJ-UHFFFAOYSA-N',\n",
       " 'YYMLRIWBISZOMT-UHFFFAOYSA-N',\n",
       " 'ZEVRFFCPALTVDN-UHFFFAOYSA-N'}"
      ]
     },
     "execution_count": 4,
     "metadata": {},
     "output_type": "execute_result"
    }
   ],
   "source": [
    "set(ss.keys()) - set(old_ss.keys())"
   ]
  },
  {
   "cell_type": "code",
   "execution_count": null,
   "metadata": {},
   "outputs": [],
   "source": []
  }
 ],
 "metadata": {
  "hide_input": false,
  "kernelspec": {
   "display_name": "Python 3",
   "language": "python",
   "name": "python3"
  },
  "language_info": {
   "codemirror_mode": {
    "name": "ipython",
    "version": 3
   },
   "file_extension": ".py",
   "mimetype": "text/x-python",
   "name": "python",
   "nbconvert_exporter": "python",
   "pygments_lexer": "ipython3",
   "version": "3.7.3"
  }
 },
 "nbformat": 4,
 "nbformat_minor": 2
}
