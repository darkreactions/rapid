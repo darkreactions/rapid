{
 "cells": [
  {
   "cell_type": "markdown",
   "metadata": {},
   "source": [
    "# Visualization\n",
    "\n",
    "1) To display visualizations click on the \"Cell\" menu above and click on \"Run All\". \n",
    "\n",
    "2) It may take a few seconds/minutes for the plots to load. If not, refresh the page and try Step 1 again"
   ]
  },
  {
   "cell_type": "code",
   "execution_count": 1,
   "metadata": {},
   "outputs": [],
   "source": [
    "import importlib\n",
    "import plots"
   ]
  },
  {
   "cell_type": "markdown",
   "metadata": {},
   "source": [
    "## Reaction outcomes\n",
    "\n",
    "Reaction outcomes are plotted as a function of the reaction composition, in the following figure. The highest quality crystal outcomes (score = 4) are represented as red points. Lower quality outcomes are depicted as yellow, green, and blue for scores of 3, 2, 1, respectively.\n",
    "\n",
    "Each point in the following figure represents an experiment and its color indicates the crystal score. The plot can be rotated by clicking and dragging the mouse. Experiment details can be obtained by clicking on any point.\n",
    "\n",
    "The convex hull shows the experimental space defined by the model set of stock solutions; individual points can be outside of this space if they came from experiments whose stock solutions where the actual prepared stock solutions were slightly more or less concentrated than the nominal description.\n",
    "Warning: Experiments are clickable only when the convex hull is turned off. To do so, toggle the \"Show Convex Hull\" button.\n",
    "\n",
    "Note: Be sure to execute all cells in the notebook to enable this to work.\n",
    "\n",
    "Note: Clicking on \"Show X-Y axes\" will show a projection into the organic/inorganic plane.\n",
    "\n",
    "Note: Clicking on the legend will show/hide the correspoding crystal scores in the plot. Double clicking a crystal score on the legend will only show that score"
   ]
  },
  {
   "cell_type": "code",
   "execution_count": 7,
   "metadata": {
    "scrolled": false
   },
   "outputs": [
    {
     "data": {
      "application/vnd.jupyter.widget-view+json": {
       "model_id": "bbabf50e38bd44fba91a2fab96e33922",
       "version_major": 2,
       "version_minor": 0
      },
      "text/plain": [
       "VBox(children=(Tab(children=(VBox(children=(FigureWidget({\n",
       "    'data': [{'hoverinfo': 'text',\n",
       "              'm…"
      ]
     },
     "metadata": {},
     "output_type": "display_data"
    }
   ],
   "source": [
    "importlib.reload(plots)\n",
    "fig1 = plots.Figure1('./data/0042.perovskitedata_RAPID.csv')\n",
    "fig1.plot"
   ]
  },
  {
   "cell_type": "markdown",
   "metadata": {},
   "source": [
    "## Machine Learning Outcomes\n",
    "\n",
    "The following plot shows different metrics for 6 machines learning models run on 45 amines. The different amines and model metrics can be selected by clicking on the drop-down menu below the plot. Clicking on the model name in the legend will hide the selected model plot. Double clicking will remove all other models from the plot.\n",
    "\n",
    "Hovering over points will show the number of training experiments and metric followed by the model name."
   ]
  },
  {
   "cell_type": "code",
   "execution_count": 26,
   "metadata": {},
   "outputs": [
    {
     "data": {
      "application/vnd.jupyter.widget-view+json": {
       "model_id": "90d86a9d177d495eb0efeedaa61d735c",
       "version_major": 2,
       "version_minor": 0
      },
      "text/plain": [
       "VBox(children=(FigureWidget({\n",
       "    'data': [{'marker': {'color': 'rgba(31, 118, 180, 1)', 'size': 5},\n",
       "         …"
      ]
     },
     "metadata": {},
     "output_type": "display_data"
    }
   ],
   "source": [
    "import ml_section\n",
    "importlib.reload(ml_section)\n",
    "\n",
    "mlsection = ml_section.MLSection()\n",
    "mlsection.plot"
   ]
  }
 ],
 "metadata": {
  "hide_input": false,
  "kernelspec": {
   "display_name": "Python 3",
   "language": "python",
   "name": "python3"
  },
  "language_info": {
   "codemirror_mode": {
    "name": "ipython",
    "version": 3
   },
   "file_extension": ".py",
   "mimetype": "text/x-python",
   "name": "python",
   "nbconvert_exporter": "python",
   "pygments_lexer": "ipython3",
   "version": "3.7.3"
  }
 },
 "nbformat": 4,
 "nbformat_minor": 2
}
