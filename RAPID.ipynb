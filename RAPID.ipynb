{
 "cells": [
  {
   "cell_type": "markdown",
   "metadata": {},
   "source": [
    "<center><h1>Interactive Data Visualization and Analysis Interface</h1></center>\n",
    "<p>\n",
    "\n",
    "<center><h3>Zhi Li<sup>1</sup>, Mansoor Ani Najeeb<sup>2</sup>, Liana Alves<sup>2,1</sup>, Alyssa Z. Sherman<sup>2</sup>, Venkateswaran Shekar<sup>3</sup>, Peter Cruz Parrilla<sup>2</sup>, Ian M. Pendleton<sup>2</sup>, Philip W. Nega<sup>1</sup>, Matthias Zeller<sup>4</sup>, Joshua Schrier<sup>2,5</sup>, Alexander J. Norquist<sup>2</sup>, Emory M. Chan<sup>1</sup></h3></center>\n",
    "<br>\n",
    "\n",
    "1. Molecular Foundry, Lawrence Berkeley National Laboratory, 1 Cyclotron Road, Berkeley, California 94720, USA\n",
    "2. Department of Chemistry, Haverford College, 370 Lancaster Avenue, Haverford, Pennsylvania 19041, USA\n",
    "3. Department of Computer Science, Haverford College, 370 Lancaster Avenue, Haverford, Pennsylvania 19041, USA\n",
    "4. Department of Chemistry, Purdue University, West Lafayette IN 47907, USA\n",
    "5. Department of Chemistry, Fordham University, 441 E. Fordham Road, The Bronx, New York, 10458, USA\n",
    "\n"
   ]
  },
  {
   "cell_type": "markdown",
   "metadata": {},
   "source": [
    "# Visualization\n",
    "\n",
    "<h3 style=\"color:red\">If accessing this jupyter notebook via mybinder.org, please wait for the notebook to load completely, it may take around 10-20 minutes for mybinder to load.</h3>\n",
    "\n",
    "1) To display visualizations click on the \"Cell\" menu above and click on \"Run All\". \n",
    "\n",
    "2) It may take a few minutes on an average for the cells to process. If not, refresh the page and try Step 1 again\n",
    "\n",
    "3) To access the source code for this notebook and the associated data please visit: https://github.com/darkreactions/rapid"
   ]
  },
  {
   "cell_type": "code",
   "execution_count": 1,
   "metadata": {},
   "outputs": [],
   "source": [
    "import importlib"
   ]
  },
  {
   "cell_type": "markdown",
   "metadata": {},
   "source": [
    "## Reaction outcomes\n",
    "\n",
    "Reaction outcomes are plotted as a function of the reaction composition, in the following figure. The highest quality crystal outcomes (score = 4) are represented as red points. Lower quality outcomes are depicted as yellow, green, and blue for scores of 3, 2, 1, respectively.\n",
    "\n",
    "Each point in the following figure represents an experiment and its color indicates the crystal score. The plot can be rotated by clicking and dragging the mouse. Experiment details can be obtained by clicking on any point. The clicked experiment is highlighted by a solid color and increased size. Points of the same class as the clicked experiment are also larger.\n",
    "\n",
    "The convex hull shows the experimental space defined by the model set of stock solutions; individual points can be outside of this space if they came from experiments whose stock solutions where the actual prepared stock solutions were slightly more or less concentrated than the nominal description.\n",
    "Warning: Experiments are clickable only when the convex hull is turned off. To do so, toggle the \"Show Convex Hull\" button.\n",
    "\n",
    "Note: Clicking on \"Show X-Y axes\" will show a projection into the organic/inorganic plane.\n",
    "\n",
    "Note: Clicking on the legend will show/hide the correspoding crystal scores in the plot. Double clicking a crystal score on the legend will only show that score\n",
    "\n"
   ]
  },
  {
   "cell_type": "code",
   "execution_count": 2,
   "metadata": {
    "scrolled": false
   },
   "outputs": [
    {
     "data": {
      "application/vnd.jupyter.widget-view+json": {
       "model_id": "2faa1a530bec4c619900d09db9330810",
       "version_major": 2,
       "version_minor": 0
      },
      "text/plain": [
       "VBox(children=(Tab(children=(VBox(children=(FigureWidget({\n",
       "    'data': [{'hoverinfo': 'text',\n",
       "              'm…"
      ]
     },
     "metadata": {},
     "output_type": "display_data"
    }
   ],
   "source": [
    "import plots\n",
    "importlib.reload(plots)\n",
    "fig1 = plots.Figure1('./data/0042.perovskitedata_RAPID.csv')\n",
    "fig1.plot"
   ]
  },
  {
   "cell_type": "markdown",
   "metadata": {},
   "source": [
    "## XRD plot\n",
    "Select the amine, plate and vial from the drop down menu below the figure. If vial name is 'None', it is a representative XRD for that plate. The experiment details tab shows the vial image and experimental conditions for the selected vial\n",
    "\n",
    "Tools to manipulate the figure appear on the top right corner of the plot when the mouse hovers over the plot"
   ]
  },
  {
   "cell_type": "code",
   "execution_count": 2,
   "metadata": {
    "scrolled": false
   },
   "outputs": [
    {
     "name": "stdout",
     "output_type": "stream",
     "text": [
      "Plate not found : 0PbI2.lbl\n",
      "Plate not found : 1,4_Benzene_Diammonium_Bromide.lbl\n",
      "Plate not found : 1,4_Benzene_Diammonium_Iodide.lbl\n",
      "Plate not found : 2-Pyrrolidin-1-ium-1-ylethylammonium_Bromide.lbl\n",
      "Plate not found : 2-Pyrrolidin-1-ium-1-ylethylammonium_iodide.lbl\n",
      "Plate not found : 4-Fluoro-Benzylammonium_Iodide.lbl\n",
      "Plate not found : 4_Methoxy_phenethyl_ammonium_iodide.lbl\n",
      "Plate not found : 4_Trifluromethylbenzylammonium_Iodide.lbl\n",
      "Plate not found : Acetamidinium_Bromide.lbl\n",
      "Plate not found : acetamidinium_iodide.lbl\n",
      "Plate not found : Butane_1,4_Diammonium_Iodide.lbl\n",
      "Plate not found : Caesium_Ioide.lbl\n",
      "Plate not found : Cyclohexylammonium_Iodide.lbl\n",
      "Plate not found : Cyclohexylmethylammonium_Iodide.lbl\n",
      "Plate not found : Dabco_Iodide.lbl\n",
      "Plate not found : Dimethylammmonium_Bromide.lbl\n",
      "Plate not found : Dimethylammmonium_Iodide.lbl\n",
      "Plate not found : ethylammonium_bromide.lbl\n",
      "Plate not found : formamidinium_bromide.lbl\n",
      "Plate not found : isobenzylammonium_iodide.lbl\n",
      "Plate not found : isobutylammonium_bromide.lbl\n",
      "Plate not found : isobutylammonium_iodide.lbl\n",
      "Plate not found : lead_bromide.lbl\n",
      "Plate not found : methylammonium_bromide.lbl\n",
      "Plate not found : Morpholinium_Bromide.lbl\n",
      "Plate not found : Morpholinium_Iodide.lbl\n",
      "Plate not found : N,N_Diethylpropane_1,3_Diammonium_Iodide.lbl\n",
      "Plate not found : N,N_Dimethylethane_1,2_Diammonium_Iodide.lbl\n",
      "Plate not found : n-Dodcylammonium_Bromide.lbl\n",
      "Plate not found : n-Hexylammonium_Iodide.lbl\n",
      "Plate not found : n-Octylammonium_Iodide.lbl\n",
      "Plate not found : neo-Pentylammonium_Iodide.lbl\n",
      "Plate not found : Pbi_DMF.lbl\n",
      "Plate not found : PbI_DMF_DMSo_WF3.lbl\n",
      "Plate not found : PbI_DMF_DMSo_WF3_no_FAH.lbl\n",
      "Plate not found : Pbi_DMSO.lbl\n",
      "Plate not found : phenethylammonium_iodide.lbl\n",
      "Plate not found : Phenylammonium_Iodide.lbl\n",
      "Plate not found : Piperazine-1,4-diium_Bromide.lbl\n",
      "Plate not found : Piperazine-1,4-diium_iodide.lbl\n",
      "Plate not found : Piperidinium_Iodide.lbl\n",
      "Plate not found : propane-1,3-diammonium.lbl\n",
      "Plate not found : Quincilinidium_Bromide.lbl\n",
      "Plate not found : Quincilinidium_iodide.lbl\n",
      "Plate not found : t-butylammonium_Iodide.lbl\n"
     ]
    },
    {
     "data": {
      "application/vnd.jupyter.widget-view+json": {
       "model_id": "b64381475ab342febffda8d076d3aba6",
       "version_major": 2,
       "version_minor": 0
      },
      "text/plain": [
       "Tab(children=(VBox(children=(FigureWidget({\n",
       "    'data': [{'type': 'scatter',\n",
       "              'uid': '06a7f98d-91…"
      ]
     },
     "metadata": {},
     "output_type": "display_data"
    }
   ],
   "source": [
    "import xrd_plot\n",
    "importlib.reload(xrd_plot)\n",
    "\n",
    "xrd = xrd_plot.XRD()\n",
    "xrd.plot"
   ]
  },
  {
   "cell_type": "markdown",
   "metadata": {},
   "source": [
    "## Machine Learning Outcomes\n",
    "\n",
    "The following plot shows different metrics for 6 machines learning models run on 45 amines. The different amines and model metrics can be selected by clicking on the drop-down menu below the plot. Clicking on the model name in the legend will hide the selected model plot. Double clicking will remove all other models from the plot.\n",
    "\n",
    "Hovering over points will show the number of training experiments and metric followed by the model name."
   ]
  },
  {
   "cell_type": "code",
   "execution_count": 4,
   "metadata": {},
   "outputs": [
    {
     "data": {
      "application/vnd.jupyter.widget-view+json": {
       "model_id": "42f5ca56ec3c45abab8a08a4024676f5",
       "version_major": 2,
       "version_minor": 0
      },
      "text/plain": [
       "VBox(children=(FigureWidget({\n",
       "    'data': [{'marker': {'color': 'rgba(31, 118, 180, 1)', 'size': 5},\n",
       "         …"
      ]
     },
     "metadata": {},
     "output_type": "display_data"
    }
   ],
   "source": [
    "import ml_section\n",
    "importlib.reload(ml_section)\n",
    "\n",
    "mlsection = ml_section.MLSection()\n",
    "mlsection.plot"
   ]
  },
  {
   "cell_type": "markdown",
   "metadata": {},
   "source": [
    "## CIF\n",
    "\n",
    "To show an interactive 3D molecule please click on the \"Show Molecule\" button\n",
    "Once the plot loads, you can view a 2x2x2 supercell by clicking on the button below the figure.\n",
    "Right clicking on the figure will provide many other jsmol tools"
   ]
  },
  {
   "cell_type": "code",
   "execution_count": 5,
   "metadata": {},
   "outputs": [
    {
     "data": {
      "text/html": [
       "\n",
       "                    <!doctype html>\n",
       "                    <html>\n",
       "                    <head>\n",
       "                    <meta content=\"text/html; charset=UTF-8\" http-equiv=\"content-type\">\n",
       "                    <script\n",
       "                        src=\"https://code.jquery.com/jquery-3.4.1.min.js\"\n",
       "                        integrity=\"sha256-CSXorXvZcTkaix6Yvo6HppcZGetbYMGWSFlBw8HfCJo=\"\n",
       "                        crossorigin=\"anonymous\"></script>\n",
       "\n",
       "                    <script type=\"text/javascript\" src=\"jsmol/JSmol.min.js\"></script>\n",
       "                    <style type=\"text/css\">\n",
       "                    .plot_div{\n",
       "                        display: inline;\n",
       "                        margin: 15px;\n",
       "                        float: left;\n",
       "                    }\n",
       "                    </style>\n",
       "                    \n",
       "                    <!-- CSS Style Inline: -->\n",
       "                    <style type=\"text/css\">\n",
       "                        /* Jmol Applet */\n",
       "                        /* defines height, width and orientation of the Jmol div element */\n",
       "                        #jmol_div_0{\n",
       "                            height: 600px;\n",
       "                            width:  600px;\n",
       "                            margin: 5px;\n",
       "                        }\n",
       "                    </style>\n",
       "                    <!-- calls to jQuery and Jmol (inline) -->\n",
       "                    <script type=\"text/javascript\">\n",
       "                        // Jmol readyFunction\n",
       "                        // is called when Jmol is ready\n",
       "\n",
       "                        jmol_isReady_0 = function(applet) {\n",
       "                            Jmol._getElement(applet, \"appletdiv\").style.border=\"1px solid blue\";\n",
       "                        }\n",
       "                        // initialize Jmol Applet\n",
       "                        var myJmol_0 = \"myJmol_0\";\n",
       "                        var Info_0 = {\n",
       "                            width:   \"100%\",\n",
       "                            height:  \"100%\",\n",
       "                            color:   \"#000000\", //black\n",
       "                            use:     \"HTML5\",\n",
       "                            j2sPath: \"./jsmol/j2s\", \n",
       "                            jarPath: \"./jsmol/java\",\n",
       "                            jarFile: \"JmolAppletSigned.jar\",\n",
       "                            debug:   false,\n",
       "                            readyFunction: jmol_isReady_0,\n",
       "                            script:  'load \"data/cifs/AcetPbI3.cif\" ; hide _H;',\n",
       "                            //script: 'load \":tylenol\";',\n",
       "                            allowJavaScript: true,\n",
       "                            disableJ2SLoadMonitor: true,\n",
       "                        }\n",
       "                        // jQuery ready functions\n",
       "                        // is called when page has been completely loaded\n",
       "                        $(document).ready(function() {\n",
       "                            console.log('Document is ready');\n",
       "                            \n",
       "                        } )\n",
       "                        function populate_jmol_0(){\n",
       "                            html_text = \"<center><h3>AcetPbI3</h3></center>\" + Jmol.getAppletHtml(myJmol_0, Info_0);\n",
       "                            html_text += Jmol.jmolButton(myJmol_0,'load \"data/cifs/AcetPbI3.cif\"  SUPERCELL {2 2 2}; hide _H;', \"Show 2x2x2 supercell\");\n",
       "                            html_text += Jmol.jmolButton(myJmol_0,'load \"data/cifs/AcetPbI3.cif\"; hide _H;', \"Reset\");\n",
       "                            // html_text += '<a href=\"/data/cifs/AcetPbI3.cif\" target=\"_blank\"><button> Download AcetPbI3 CIF</button></a>'\n",
       "                            $(\"#jmol_div_0\").html(html_text);\n",
       "                        }\n",
       "                        var lastPrompt=0;\n",
       "                    </script>\n",
       "                    \n",
       "                    <!-- CSS Style Inline: -->\n",
       "                    <style type=\"text/css\">\n",
       "                        /* Jmol Applet */\n",
       "                        /* defines height, width and orientation of the Jmol div element */\n",
       "                        #jmol_div_1{\n",
       "                            height: 600px;\n",
       "                            width:  600px;\n",
       "                            margin: 5px;\n",
       "                        }\n",
       "                    </style>\n",
       "                    <!-- calls to jQuery and Jmol (inline) -->\n",
       "                    <script type=\"text/javascript\">\n",
       "                        // Jmol readyFunction\n",
       "                        // is called when Jmol is ready\n",
       "\n",
       "                        jmol_isReady_1 = function(applet) {\n",
       "                            Jmol._getElement(applet, \"appletdiv\").style.border=\"1px solid blue\";\n",
       "                        }\n",
       "                        // initialize Jmol Applet\n",
       "                        var myJmol_1 = \"myJmol_1\";\n",
       "                        var Info_1 = {\n",
       "                            width:   \"100%\",\n",
       "                            height:  \"100%\",\n",
       "                            color:   \"#000000\", //black\n",
       "                            use:     \"HTML5\",\n",
       "                            j2sPath: \"./jsmol/j2s\", \n",
       "                            jarPath: \"./jsmol/java\",\n",
       "                            jarFile: \"JmolAppletSigned.jar\",\n",
       "                            debug:   false,\n",
       "                            readyFunction: jmol_isReady_1,\n",
       "                            script:  'load \"data/cifs/CHMA2PbI4.cif\" ; hide _H;',\n",
       "                            //script: 'load \":tylenol\";',\n",
       "                            allowJavaScript: true,\n",
       "                            disableJ2SLoadMonitor: true,\n",
       "                        }\n",
       "                        // jQuery ready functions\n",
       "                        // is called when page has been completely loaded\n",
       "                        $(document).ready(function() {\n",
       "                            console.log('Document is ready');\n",
       "                            \n",
       "                        } )\n",
       "                        function populate_jmol_1(){\n",
       "                            html_text = \"<center><h3>CHMA2PbI4</h3></center>\" + Jmol.getAppletHtml(myJmol_1, Info_1);\n",
       "                            html_text += Jmol.jmolButton(myJmol_1,'load \"data/cifs/CHMA2PbI4.cif\"  SUPERCELL {2 2 2}; hide _H;', \"Show 2x2x2 supercell\");\n",
       "                            html_text += Jmol.jmolButton(myJmol_1,'load \"data/cifs/CHMA2PbI4.cif\"; hide _H;', \"Reset\");\n",
       "                            // html_text += '<a href=\"/data/cifs/CHMA2PbI4.cif\" target=\"_blank\"><button> Download CHMA2PbI4 CIF</button></a>'\n",
       "                            $(\"#jmol_div_1\").html(html_text);\n",
       "                        }\n",
       "                        var lastPrompt=0;\n",
       "                    </script>\n",
       "                    </head> <body>\n",
       "                        <div class='plot_div'>\n",
       "                            <div id='jmol_div_0'> \n",
       "                                <div style=\"text-align: center;\">\n",
       "                                    <button type=\"button\" onclick=populate_jmol_0()>Show Molecule</button>\n",
       "                                </div> \n",
       "                            </div>\n",
       "                        </div>\n",
       "                        \n",
       "                        <div class='plot_div'>\n",
       "                            <div id='jmol_div_1'> \n",
       "                                <div style=\"text-align: center;\">\n",
       "                                    <button type=\"button\" onclick=populate_jmol_1()>Show Molecule</button>\n",
       "                                </div> \n",
       "                            </div>\n",
       "                        </div>\n",
       "                        </body> </html>"
      ],
      "text/plain": [
       "<IPython.core.display.HTML object>"
      ]
     },
     "execution_count": 5,
     "metadata": {},
     "output_type": "execute_result"
    }
   ],
   "source": [
    "import cif_plots\n",
    "importlib.reload(cif_plots)\n",
    "\n",
    "cif_paths = ['data/cifs/AcetPbI3.cif', 'data/cifs/CHMA2PbI4.cif']\n",
    "fig_names = ['AcetPbI3', 'CHMA2PbI4']\n",
    "doi_values = {'AcetPbI3':'10.5517/cc1j04rf', 'CHMA2PbI4': '10.5517/ccdc.csd.cc1j88bd'}\n",
    "fig4 = cif_plots.JsMolFigure(cif_paths, fig_names, doi_values, widget_side=600)\n",
    "fig4.plot"
   ]
  },
  {
   "cell_type": "code",
   "execution_count": null,
   "metadata": {},
   "outputs": [],
   "source": []
  }
 ],
 "metadata": {
  "hide_input": false,
  "kernelspec": {
   "display_name": "Python 3",
   "language": "python",
   "name": "python3"
  },
  "language_info": {
   "codemirror_mode": {
    "name": "ipython",
    "version": 3
   },
   "file_extension": ".py",
   "mimetype": "text/x-python",
   "name": "python",
   "nbconvert_exporter": "python",
   "pygments_lexer": "ipython3",
   "version": "3.6.8"
  }
 },
 "nbformat": 4,
 "nbformat_minor": 2
}
